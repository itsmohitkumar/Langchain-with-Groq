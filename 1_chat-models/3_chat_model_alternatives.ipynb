{
 "cells": [
  {
   "cell_type": "code",
   "execution_count": 1,
   "metadata": {},
   "outputs": [],
   "source": [
    "#langchain Documentation:-\n",
    "#[ChatGroq]: https://python.langchain.com/v0.2/docs/integrations/chat/groq/\n",
    "\n",
    "# LangChain Expression Language (LCEL): https://python.langchain.com/v0.1/docs/modules/model_io/chat/quick_start/\n",
    "\n",
    "#LLM Api Documentation:-\n",
    "#[Groq]: https://console.groq.com/docs/quickstart"
   ]
  },
  {
   "cell_type": "code",
   "execution_count": 4,
   "metadata": {},
   "outputs": [
    {
     "name": "stdout",
     "output_type": "stream",
     "text": [
      "\u001b[33mWARNING: You are using pip version 22.0.4; however, version 24.2 is available.\n",
      "You should consider upgrading via the '/Users/taurangela/Desktop/Github/Langchain-with-Groq/env/bin/python -m pip install --upgrade pip' command.\u001b[0m\u001b[33m\n",
      "\u001b[0mNote: you may need to restart the kernel to use updated packages.\n"
     ]
    }
   ],
   "source": [
    "%pip install -qU langchain-anthropic langchain-google-genai python-dotenv "
   ]
  },
  {
   "cell_type": "code",
   "execution_count": 1,
   "metadata": {},
   "outputs": [
    {
     "name": "stderr",
     "output_type": "stream",
     "text": [
      "/Users/taurangela/Desktop/Github/Langchain-with-Groq/env/lib/python3.10/site-packages/tqdm/auto.py:21: TqdmWarning: IProgress not found. Please update jupyter and ipywidgets. See https://ipywidgets.readthedocs.io/en/stable/user_install.html\n",
      "  from .autonotebook import tqdm as notebook_tqdm\n"
     ]
    }
   ],
   "source": [
    "#import library's\n",
    "import os\n",
    "from dotenv import load_dotenv\n",
    "from langchain_core.messages import HumanMessage, SystemMessage\n",
    "#Google\n",
    "from langchain_google_genai import ChatGoogleGenerativeAI\n",
    "#Anthropic\n",
    "from langchain_anthropic import ChatAnthropic\n"
   ]
  },
  {
   "cell_type": "code",
   "execution_count": 6,
   "metadata": {},
   "outputs": [],
   "source": [
    "# Load environment variables from the .env file\n",
    "load_dotenv()\n",
    "\n",
    "# Get the values of the environment variables\n",
    "GOOGLE_API_KEY = os.getenv(\"GOOGLE_API_KEY\")\n",
    "ANTHROPIC_API_KEY = os.getenv(\"ANTHROPIC_API_KEY\")\n",
    "\n",
    "# Print the values of the environment variables\n",
    "#print(GOOGLE_API_KEY)\n",
    "#print(ANTHROPIC_API_KEY)"
   ]
  },
  {
   "cell_type": "code",
   "execution_count": 3,
   "metadata": {},
   "outputs": [],
   "source": [
    "# SystemMessage: Message for priming AI behavior, usually passed in as the first of a sequenc of input messages.\n",
    "# HumanMessagse: Message from a human to the AI model.\n",
    "\n",
    "messages = [\n",
    "    SystemMessage(content=\"Solve the following math problems\"),\n",
    "    HumanMessage(content=\"What is root square of pi?\"),\n",
    "]"
   ]
  },
  {
   "cell_type": "code",
   "execution_count": 4,
   "metadata": {},
   "outputs": [
    {
     "name": "stdout",
     "output_type": "stream",
     "text": [
      "Answer from Google: The square root of pi (π) is approximately:\n",
      "\n",
      "**1.77245385091**\n",
      "\n",
      "You can calculate this using a calculator or a mathematical software. \n",
      "\n"
     ]
    }
   ],
   "source": [
    "# ---- Google Chat Model Example ----\n",
    "\n",
    "# https://python.langchain.com/v0.2/docs/integrations/chat/google_generative_ai/\n",
    "# https://ai.google.dev/gemini-api/docs/models/gemini\n",
    "\n",
    "llm = ChatGoogleGenerativeAI(model=\"gemini-1.5-pro\")\n",
    "\n",
    "\n",
    "# Optional configuration\n",
    "#llm = ChatGoogleGenerativeAI(\n",
    "#    model=\"gemini-1.5-pro\",\n",
    "#    temperature=0,\n",
    "#    max_tokens=None,\n",
    "#    timeout=None,\n",
    "#    max_retries=2,\n",
    "    # other params...\n",
    "#)\n",
    "\n",
    "result = llm.invoke(messages)\n",
    "print(f\"Answer from Google: {result.content}\")"
   ]
  },
  {
   "cell_type": "code",
   "execution_count": 5,
   "metadata": {},
   "outputs": [
    {
     "name": "stdout",
     "output_type": "stream",
     "text": [
      "Answer from Anthropic: The square root of pi (π) is an irrational number, which means it cannot be expressed as a simple fraction and has an infinite number of digits after the decimal point without any repeating pattern. The value of the square root of pi rounded to 10 decimal places is approximately 1.7724538509.\n",
      "\n",
      "To represent the square root of pi symbolically, you can use the radical symbol (√) or the fractional exponent (1/2):\n",
      "\n",
      "√π ≈ 1.7724538509\n",
      "or\n",
      "π^(1/2) ≈ 1.7724538509\n",
      "\n",
      "The square root of pi appears in various mathematical contexts, such as in the calculations related to the area and volume of a sphere or in certain probability distributions.\n"
     ]
    }
   ],
   "source": [
    "# ---- Anthropic Chat Model Example ----\n",
    "\n",
    "# Create a Anthropic model\n",
    "# Anthropic models: https://docs.anthropic.com/en/docs/models-overview\n",
    "# ChatAnthropic: https://python.langchain.com/v0.2/docs/integrations/chat/anthropic/\n",
    "\n",
    "llm = ChatAnthropic(model=\"claude-3-opus-20240229\")\n",
    "\n",
    "# Optional configuration\n",
    "#llm = ChatAnthropic(\n",
    "#    model=\"claude-3-5-sonnet-20240620\",\n",
    "#    temperature=0,\n",
    "#    max_tokens=1024,\n",
    "#    timeout=None,\n",
    "#    max_retries=2,\n",
    "#    # other params...\n",
    "#)\n",
    "\n",
    "\n",
    "result = llm.invoke(messages)\n",
    "print(f\"Answer from Anthropic: {result.content}\")"
   ]
  },
  {
   "cell_type": "code",
   "execution_count": null,
   "metadata": {},
   "outputs": [],
   "source": []
  }
 ],
 "metadata": {
  "kernelspec": {
   "display_name": "env",
   "language": "python",
   "name": "python3"
  },
  "language_info": {
   "codemirror_mode": {
    "name": "ipython",
    "version": 3
   },
   "file_extension": ".py",
   "mimetype": "text/x-python",
   "name": "python",
   "nbconvert_exporter": "python",
   "pygments_lexer": "ipython3",
   "version": "3.10.4"
  }
 },
 "nbformat": 4,
 "nbformat_minor": 2
}
