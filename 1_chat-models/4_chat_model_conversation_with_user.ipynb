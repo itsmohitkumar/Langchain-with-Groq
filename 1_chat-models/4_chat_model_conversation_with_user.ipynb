{
 "cells": [
  {
   "cell_type": "code",
   "execution_count": 1,
   "metadata": {},
   "outputs": [],
   "source": [
    "#langchain Documentation:-\n",
    "#[ChatGroq]: https://python.langchain.com/v0.2/docs/integrations/chat/groq/\n",
    "\n",
    "# LangChain Expression Language (LCEL): https://python.langchain.com/v0.1/docs/modules/model_io/chat/quick_start/\n",
    "\n",
    "#LLM Api Documentation:-\n",
    "#[Groq]: https://console.groq.com/docs/quickstart"
   ]
  },
  {
   "cell_type": "code",
   "execution_count": null,
   "metadata": {},
   "outputs": [],
   "source": [
    "%pip install -qU langchain-groq python-dotenv"
   ]
  },
  {
   "cell_type": "code",
   "execution_count": 2,
   "metadata": {},
   "outputs": [],
   "source": [
    "#import library's\n",
    "import os\n",
    "from dotenv import load_dotenv\n",
    "from langchain_groq import ChatGroq\n",
    "from langchain_core.messages import AIMessage, HumanMessage, SystemMessage"
   ]
  },
  {
   "cell_type": "code",
   "execution_count": 3,
   "metadata": {},
   "outputs": [],
   "source": [
    "# Load environment variables from .env\n",
    "load_dotenv()\n",
    "\n",
    "api_key = os.getenv(\"GROQ_API_KEY\")"
   ]
  },
  {
   "cell_type": "code",
   "execution_count": 4,
   "metadata": {},
   "outputs": [],
   "source": [
    "# Create a Groq model\n",
    "llm = ChatGroq(\n",
    "    model=\"mixtral-8x7b-32768\" #choose model from the list:https://console.groq.com/docs/models\n",
    ")"
   ]
  },
  {
   "cell_type": "code",
   "execution_count": 5,
   "metadata": {},
   "outputs": [],
   "source": [
    "# Store chat history\n",
    "chat_history = []  # Use a list to store messages\n",
    "\n",
    "# Set an initial system message (optional)\n",
    "system_message = SystemMessage(content=\"You are a helpful AI assistant.\")\n",
    "chat_history.append(system_message)  # Add system message to chat history"
   ]
  },
  {
   "cell_type": "code",
   "execution_count": 7,
   "metadata": {},
   "outputs": [
    {
     "name": "stdout",
     "output_type": "stream",
     "text": [
      "AI: Hello again! Is there something specific you would like help with? I'm here to assist you with a wide range of topics and tasks. Please let me know how I can help you today.\n",
      "AI: I'm sorry, I still don't understand your message. \"Lola lele mera\" doesn't appear to be a complete sentence or a question in English. Could you please provide more context or clarify what you are asking for? I'm here to help with a wide range of topics and tasks, so please let me know how I can assist you.\n",
      "AI: Hello! I'm here to help you with any questions or tasks you have. Is there something specific you would like help with? I can assist with a wide range of topics, including but not limited to:\n",
      "\n",
      "* General knowledge and research\n",
      "* Writing and editing assistance\n",
      "* Technology and software guidance\n",
      "* Math and science problems\n",
      "* Product recommendations and comparisons\n",
      "* Language translation and interpretation\n",
      "* And much more!\n",
      "\n",
      "Please let me know how I can assist you.\n"
     ]
    }
   ],
   "source": [
    "# Chat loop\n",
    "while True:\n",
    "    query = input(\"You: \")\n",
    "    \n",
    "    # Exit condition\n",
    "    if query.lower() == \"exit\":\n",
    "        break\n",
    "\n",
    "    # Add user message to chat history\n",
    "    chat_history.append(HumanMessage(content=query))\n",
    "\n",
    "    # Get AI response using chat history\n",
    "    result = llm.invoke(chat_history)  # Assume `invoke()` method is available\n",
    "    response = result.content\n",
    "\n",
    "    # Add AI message to chat history\n",
    "    chat_history.append(AIMessage(content=response))\n",
    "\n",
    "    # Print AI response\n",
    "    print(f\"AI: {response}\")"
   ]
  },
  {
   "cell_type": "code",
   "execution_count": 1,
   "metadata": {},
   "outputs": [
    {
     "name": "stdout",
     "output_type": "stream",
     "text": [
      "---- Message History ----\n"
     ]
    },
    {
     "ename": "NameError",
     "evalue": "name 'chat_history' is not defined",
     "output_type": "error",
     "traceback": [
      "\u001b[0;31m---------------------------------------------------------------------------\u001b[0m",
      "\u001b[0;31mNameError\u001b[0m                                 Traceback (most recent call last)",
      "Cell \u001b[0;32mIn[1], line 3\u001b[0m\n\u001b[1;32m      1\u001b[0m \u001b[38;5;66;03m# After the loop ends, print the chat history\u001b[39;00m\n\u001b[1;32m      2\u001b[0m \u001b[38;5;28mprint\u001b[39m(\u001b[38;5;124m\"\u001b[39m\u001b[38;5;124m---- Message History ----\u001b[39m\u001b[38;5;124m\"\u001b[39m)\n\u001b[0;32m----> 3\u001b[0m \u001b[38;5;28;01mfor\u001b[39;00m message \u001b[38;5;129;01min\u001b[39;00m \u001b[43mchat_history\u001b[49m:\n\u001b[1;32m      4\u001b[0m     \u001b[38;5;28;01mif\u001b[39;00m \u001b[38;5;28misinstance\u001b[39m(message, HumanMessage):\n\u001b[1;32m      5\u001b[0m         \u001b[38;5;28mprint\u001b[39m(\u001b[38;5;124mf\u001b[39m\u001b[38;5;124m\"\u001b[39m\u001b[38;5;124mYou: \u001b[39m\u001b[38;5;132;01m{\u001b[39;00mmessage\u001b[38;5;241m.\u001b[39mcontent\u001b[38;5;132;01m}\u001b[39;00m\u001b[38;5;124m\"\u001b[39m)\n",
      "\u001b[0;31mNameError\u001b[0m: name 'chat_history' is not defined"
     ]
    }
   ],
   "source": [
    "# After the loop ends, print the chat history\n",
    "print(\"---- Message History ----\")\n",
    "for message in chat_history:\n",
    "    if isinstance(message, HumanMessage):\n",
    "        print(f\"You: {message.content}\")\n",
    "    elif isinstance(message, AIMessage):\n",
    "        print(f\"AI: {message.content}\")\n",
    "    else:\n",
    "        print(f\"System: {message.content}\")"
   ]
  },
  {
   "cell_type": "code",
   "execution_count": null,
   "metadata": {},
   "outputs": [],
   "source": []
  }
 ],
 "metadata": {
  "kernelspec": {
   "display_name": "env",
   "language": "python",
   "name": "python3"
  },
  "language_info": {
   "codemirror_mode": {
    "name": "ipython",
    "version": 3
   },
   "file_extension": ".py",
   "mimetype": "text/x-python",
   "name": "python",
   "nbconvert_exporter": "python",
   "pygments_lexer": "ipython3",
   "version": "3.10.4"
  }
 },
 "nbformat": 4,
 "nbformat_minor": 2
}
