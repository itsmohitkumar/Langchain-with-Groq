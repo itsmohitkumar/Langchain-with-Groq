{
 "cells": [
  {
   "cell_type": "code",
   "execution_count": 6,
   "metadata": {},
   "outputs": [
    {
     "name": "stdout",
     "output_type": "stream",
     "text": [
      "\u001b[33mWARNING: You are using pip version 22.0.4; however, version 24.2 is available.\n",
      "You should consider upgrading via the '/Users/taurangela/Desktop/Github/Langchain-with-Groq/env/bin/python -m pip install --upgrade pip' command.\u001b[0m\u001b[33m\n",
      "\u001b[0mNote: you may need to restart the kernel to use updated packages.\n"
     ]
    }
   ],
   "source": [
    "# Install necessary packages\n",
    "%pip install -qU langchain-groq python-dotenv"
   ]
  },
  {
   "cell_type": "code",
   "execution_count": 7,
   "metadata": {},
   "outputs": [],
   "source": [
    "# Import necessary libraries\n",
    "import os\n",
    "from dotenv import load_dotenv\n",
    "from langchain_groq import ChatGroq\n",
    "from langchain.prompts import ChatPromptTemplate"
   ]
  },
  {
   "cell_type": "code",
   "execution_count": 3,
   "metadata": {},
   "outputs": [],
   "source": [
    "# Load environment variables from .env\n",
    "load_dotenv()\n",
    "\n",
    "# Access the GROQ_API_KEY\n",
    "api_key = os.getenv('GROQ_API_KEY')"
   ]
  },
  {
   "cell_type": "code",
   "execution_count": 4,
   "metadata": {},
   "outputs": [],
   "source": [
    "# Create a Groq model\n",
    "llm = ChatGroq(\n",
    "    model=\"mixtral-8x7b-32768\"  # Choose model from the list: https://console.groq.com/docs/models\n",
    ")"
   ]
  },
  {
   "cell_type": "code",
   "execution_count": 8,
   "metadata": {},
   "outputs": [],
   "source": [
    "# Define a function to be called\n",
    "def calculate_area_of_circle(radius):\n",
    "    \"\"\"Function to calculate the area of a circle given the radius.\"\"\"\n",
    "    from math import pi\n",
    "    return pi * (radius ** 2)"
   ]
  },
  {
   "cell_type": "code",
   "execution_count": 9,
   "metadata": {},
   "outputs": [
    {
     "name": "stdout",
     "output_type": "stream",
     "text": [
      "\n",
      "----- Zero-Shot Function Calling Example -----\n",
      "\n",
      "Calculated Area for radius 7 units: 153.93804002589985 square units\n"
     ]
    }
   ],
   "source": [
    "# PART 1: Zero-Shot Example with Function Calling\n",
    "print(\"\\n----- Zero-Shot Function Calling Example -----\\n\")\n",
    "\n",
    "# Template for zero-shot function call\n",
    "zero_shot_template = \"Human: I have a circle with a radius of {radius} units. Can you calculate the area for me?\"\n",
    "\n",
    "# Create a prompt template\n",
    "zero_shot_prompt_template = ChatPromptTemplate.from_template(zero_shot_template)\n",
    "\n",
    "# Invoke the prompt with a specific radius\n",
    "radius_value = 7  # Example radius for zero-shot\n",
    "prompt = zero_shot_prompt_template.invoke({\"radius\": radius_value})\n",
    "\n",
    "# Directly call the function in our script, simulating the model's action\n",
    "result = calculate_area_of_circle(radius_value)\n",
    "print(f\"Calculated Area for radius {radius_value} units: {result} square units\")"
   ]
  },
  {
   "cell_type": "code",
   "execution_count": 10,
   "metadata": {},
   "outputs": [
    {
     "name": "stdout",
     "output_type": "stream",
     "text": [
      "\n",
      "----- Few-Shot Function Calling Example -----\n",
      "\n",
      "Calculated Area for radius 10 units: 314.1592653589793 square units\n"
     ]
    }
   ],
   "source": [
    "# PART 2: Few-Shot Example with Function Calling\n",
    "print(\"\\n----- Few-Shot Function Calling Example -----\\n\")\n",
    "\n",
    "# Provide a few-shot example where the function is called\n",
    "few_shot_example = \"\"\"\n",
    "Example 1:\n",
    "Human: I have a circle with a radius of 3 units. Can you calculate the area for me?\n",
    "Assistant: Sure! The area of a circle with a radius of 3 units is approximately 28.27 square units.\n",
    "\n",
    "Example 2:\n",
    "Human: I have a circle with a radius of 5 units. Can you calculate the area for me?\n",
    "Assistant: Sure! The area of a circle with a radius of 5 units is approximately 78.54 square units.\n",
    "\n",
    "Human: I have a circle with a radius of {radius} units. Can you calculate the area for me?\n",
    "\"\"\"\n",
    "\n",
    "# Create a prompt template for few-shot learning\n",
    "few_shot_prompt_template = ChatPromptTemplate.from_template(few_shot_example)\n",
    "\n",
    "# Invoke the few-shot prompt with a specific radius\n",
    "radius_value_few_shot = 10  # Example radius for few-shot\n",
    "prompt = few_shot_prompt_template.invoke({\"radius\": radius_value_few_shot})\n",
    "\n",
    "# Directly call the function in our script, simulating the model's action\n",
    "result = calculate_area_of_circle(radius_value_few_shot)\n",
    "print(f\"Calculated Area for radius {radius_value_few_shot} units: {result} square units\")"
   ]
  },
  {
   "cell_type": "code",
   "execution_count": 11,
   "metadata": {},
   "outputs": [
    {
     "name": "stdout",
     "output_type": "stream",
     "text": [
      "\n",
      "----- Function Calling with Model Response Simulation -----\n",
      "\n",
      "Model says: Calculating area for radius 15 units.\n",
      "Function Output (calculated area): 706.8583470577034 square units\n"
     ]
    }
   ],
   "source": [
    "# PART 3: Example of Function Calling Integration\n",
    "print(\"\\n----- Function Calling with Model Response Simulation -----\\n\")\n",
    "\n",
    "# Template where model suggests a function call\n",
    "function_call_template = \"\"\"You are a helpful assistant.\n",
    "Human: I have a circle with a radius of {radius} units. Can you calculate the area for me?\n",
    "Assistant: Sure! I'll calculate it using the formula π * radius^2.\n",
    "\"\"\"\n",
    "\n",
    "# Create a prompt template to simulate function calling\n",
    "function_call_prompt_template = ChatPromptTemplate.from_template(function_call_template)\n",
    "\n",
    "# Invoke the prompt\n",
    "radius_value_integration = 15  # Example radius for function call\n",
    "prompt = function_call_prompt_template.invoke({\"radius\": radius_value_integration})\n",
    "\n",
    "# Simulate the function call based on the model's response\n",
    "print(f\"Model says: Calculating area for radius {radius_value_integration} units.\")\n",
    "result = calculate_area_of_circle(radius_value_integration)\n",
    "print(f\"Function Output (calculated area): {result} square units\")"
   ]
  },
  {
   "cell_type": "code",
   "execution_count": null,
   "metadata": {},
   "outputs": [],
   "source": []
  }
 ],
 "metadata": {
  "kernelspec": {
   "display_name": "env",
   "language": "python",
   "name": "python3"
  },
  "language_info": {
   "codemirror_mode": {
    "name": "ipython",
    "version": 3
   },
   "file_extension": ".py",
   "mimetype": "text/x-python",
   "name": "python",
   "nbconvert_exporter": "python",
   "pygments_lexer": "ipython3",
   "version": "3.10.4"
  }
 },
 "nbformat": 4,
 "nbformat_minor": 2
}
